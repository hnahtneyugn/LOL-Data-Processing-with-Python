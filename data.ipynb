{
 "cells": [
  {
   "cell_type": "code",
<<<<<<< HEAD
   "execution_count": 1,
   "metadata": {},
   "outputs": [],
   "source": [
    "import json\n",
    "import time\n",
    "import requests"
   ]
  },
  {
   "cell_type": "code",
   "execution_count": 2,
   "metadata": {},
   "outputs": [],
   "source": [
    "path=\"match_ids/all_matchids.json\"\n",
    "with open(path, \"r\") as file:\n",
    "    match_ids = set(json.load(file))"
   ]
  },
  {
   "cell_type": "code",
   "execution_count": 4,
   "metadata": {},
   "outputs": [
    {
     "name": "stdout",
     "output_type": "stream",
     "text": [
      "Rate limit exceeded. Retrying in 12 seconds...\n",
      "Rate limit exceeded. Retrying in 12 seconds...\n",
      "Rate limit exceeded. Retrying in 12 seconds...\n",
      "Rate limit exceeded. Retrying in 12 seconds...\n",
      "Rate limit exceeded. Retrying in 12 seconds...\n",
      "Rate limit exceeded. Retrying in 12 seconds...\n",
      "Rate limit exceeded. Retrying in 12 seconds...\n",
      "Rate limit exceeded. Retrying in 12 seconds...\n",
      "8000\n",
      "2000\n"
     ]
    }
   ],
   "source": [
    "rank = \"gold\"\n",
    "\n",
    "gold_matchids = set({})\n",
    "reserve_gold_matchids=set({})\n",
    "api_key = 'RGAPI-ad1788db-515f-42b6-9f1c-096d76edf3fe'\n",
    "path=f\"puuids/{rank}_puuids.json\"\n",
    "with open(path, \"r\") as file:\n",
    "    puuids = json.load(file)\n",
    "for puuid in puuids:\n",
    "    url = f\"https://sea.api.riotgames.com/lol/match/v5/matches/by-puuid/{puuid}/ids?type=ranked&start=0&count=20&api_key={api_key}\"\n",
    "    retries = 10\n",
    "    for i in range(retries):\n",
    "        response = requests.get(url)\n",
    "        if response.status_code == 200:\n",
    "            data = response.json()\n",
    "            count = 0\n",
    "            for i in range(len(data)):\n",
    "                if data[i] not in match_ids:\n",
    "                    if count < 10:\n",
    "                        match_ids.add(data[i])\n",
    "                        gold_matchids.add(data[i])\n",
    "                        count+=1\n",
    "                    elif count == 10:\n",
    "                        reserve_gold_matchids.add(data[i])\n",
    "                        count+=1\n",
    "                        break\n",
    "            break\n",
    "        elif response.status_code == 429:\n",
    "            print(\"Rate limit exceeded. Retrying in 12 seconds...\")\n",
    "            time.sleep(6)\n",
    "        else:\n",
    "            print(\"Failed to retrieve account PUUID. Status Code:\", response.status_code)\n",
    "            break\n",
    "if len(gold_matchids) < 2000:\n",
    "    ids_to_add = list(reserve_gold_matchids)[:2000-len(gold_matchids)]\n",
    "    match_ids.update(ids_to_add)\n",
    "    gold_matchids.update(ids_to_add)\n",
    "#kiem tra ket qua\n",
    "print(len(match_ids))\n",
    "print(len(gold_matchids))\n",
    "\n",
    "with open(\"match_ids/all_matchids.json\", 'w', encoding='utf-8') as file:\n",
    "    json.dump(list(match_ids), file, ensure_ascii=False, indent=4)\n",
    "\n",
    "with open(f\"match_ids/{rank}_matchids.json\", 'w', encoding='utf-8') as file:\n",
    "    json.dump(list(gold_matchids), file, ensure_ascii=False, indent=4)"
   ]
  },
  {
   "cell_type": "code",
   "execution_count": 8,
   "metadata": {},
   "outputs": [
    {
     "name": "stdout",
     "output_type": "stream",
     "text": [
      "Rate limit exceeded. Retrying in 12 seconds...\n",
      "Rate limit exceeded. Retrying in 12 seconds...\n",
      "Rate limit exceeded. Retrying in 12 seconds...\n",
      "Rate limit exceeded. Retrying in 12 seconds...\n",
      "Rate limit exceeded. Retrying in 12 seconds...\n",
      "Rate limit exceeded. Retrying in 12 seconds...\n",
      "Rate limit exceeded. Retrying in 12 seconds...\n",
      "Rate limit exceeded. Retrying in 12 seconds...\n",
      "Rate limit exceeded. Retrying in 12 seconds...\n",
      "10000\n",
      "2000\n"
     ]
    }
   ],
   "source": [
    "rank = \"platinum\"\n",
    "\n",
    "platinum_matchids = set({})\n",
    "reserve_platinum_matchids=set({})\n",
    "api_key = 'RGAPI-ad1788db-515f-42b6-9f1c-096d76edf3fe'\n",
    "path=f\"puuids/{rank}_puuids.json\"\n",
    "with open(path, \"r\") as file:\n",
    "    puuids = json.load(file)\n",
    "for puuid in puuids:\n",
    "    url = f\"https://sea.api.riotgames.com/lol/match/v5/matches/by-puuid/{puuid}/ids?type=ranked&start=0&count=20&api_key={api_key}\"\n",
    "    retries = 10\n",
    "    for i in range(retries):\n",
    "        response = requests.get(url)\n",
    "        if response.status_code == 200:\n",
    "            data = response.json()\n",
    "            count = 0\n",
    "            for i in range(len(data)):\n",
    "                if data[i] not in match_ids:\n",
    "                    if count < 10:\n",
    "                        match_ids.add(data[i])\n",
    "                        platinum_matchids.add(data[i])\n",
    "                        count+=1\n",
    "                    elif count == 10:\n",
    "                        reserve_platinum_matchids.add(data[i])\n",
    "                        count+=1\n",
    "                        break\n",
    "            break\n",
    "        elif response.status_code == 429:\n",
    "            print(\"Rate limit exceeded. Retrying in 12 seconds...\")\n",
    "            time.sleep(6)\n",
    "        else:\n",
    "            print(\"Failed to retrieve account PUUID. Status Code:\", response.status_code)\n",
    "            break\n",
    "if len(platinum_matchids) < 2000:\n",
    "    ids_to_add = list(reserve_platinum_matchids)[:2000-len(platinum_matchids)]\n",
    "    match_ids.update(ids_to_add)\n",
    "    platinum_matchids.update(ids_to_add)\n",
    "#kiem tra ket qua\n",
    "print(len(match_ids))\n",
    "print(len(platinum_matchids))\n",
    "\n",
    "with open(\"match_ids/all_matchids.json\", 'w', encoding='utf-8') as file:\n",
    "    json.dump(list(match_ids), file, ensure_ascii=False, indent=4)\n",
    "\n",
    "with open(f\"match_ids/{rank}_matchids.json\", 'w', encoding='utf-8') as file:\n",
    "    json.dump(list(platinum_matchids), file, ensure_ascii=False, indent=4)"
   ]
  },
  {
   "cell_type": "code",
   "execution_count": 10,
   "metadata": {},
   "outputs": [
    {
     "name": "stdout",
     "output_type": "stream",
     "text": [
      "Rate limit exceeded. Retrying in 12 seconds...\n",
      "Rate limit exceeded. Retrying in 12 seconds...\n",
      "Rate limit exceeded. Retrying in 12 seconds...\n",
      "Rate limit exceeded. Retrying in 12 seconds...\n",
      "Rate limit exceeded. Retrying in 12 seconds...\n",
      "Rate limit exceeded. Retrying in 12 seconds...\n",
      "Rate limit exceeded. Retrying in 12 seconds...\n",
      "Rate limit exceeded. Retrying in 12 seconds...\n",
      "Rate limit exceeded. Retrying in 12 seconds...\n",
      "12000\n",
      "2000\n"
     ]
    }
   ],
   "source": [
    "rank = \"emerald\"\n",
    "\n",
    "emerald_matchids = set({})\n",
    "reserve_emerald_matchids=set({})\n",
    "api_key = 'RGAPI-ad1788db-515f-42b6-9f1c-096d76edf3fe'\n",
    "path=f\"puuids/{rank}_puuids.json\"\n",
    "with open(path, \"r\") as file:\n",
    "    puuids = json.load(file)\n",
    "for puuid in puuids:\n",
    "    url = f\"https://sea.api.riotgames.com/lol/match/v5/matches/by-puuid/{puuid}/ids?type=ranked&start=0&count=20&api_key={api_key}\"\n",
    "    retries = 10\n",
    "    for i in range(retries):\n",
    "        response = requests.get(url)\n",
    "        if response.status_code == 200:\n",
    "            data = response.json()\n",
    "            count = 0\n",
    "            for i in range(len(data)):\n",
    "                if data[i] not in match_ids:\n",
    "                    if count < 10:\n",
    "                        match_ids.add(data[i])\n",
    "                        emerald_matchids.add(data[i])\n",
    "                        count+=1\n",
    "                    elif count == 10:\n",
    "                        reserve_emerald_matchids.add(data[i])\n",
    "                        count+=1\n",
    "                        break\n",
    "            break\n",
    "        elif response.status_code == 429:\n",
    "            print(\"Rate limit exceeded. Retrying in 12 seconds...\")\n",
    "            time.sleep(6)\n",
    "        else:\n",
    "            print(\"Failed to retrieve account PUUID. Status Code:\", response.status_code)\n",
    "            break\n",
    "if len(platinum_matchids) < 2000:\n",
    "    ids_to_add = list(reserve_emerald_matchids)[:2000-len(emerald_matchids)]\n",
    "    match_ids.update(ids_to_add)\n",
    "    emerald_matchids.update(ids_to_add)\n",
    "#kiem tra ket qua\n",
    "print(len(match_ids))\n",
    "print(len(emerald_matchids))\n",
    "\n",
    "with open(\"match_ids/all_matchids.json\", 'w', encoding='utf-8') as file:\n",
    "    json.dump(list(match_ids), file, ensure_ascii=False, indent=4)\n",
    "\n",
    "with open(f\"match_ids/{rank}_matchids.json\", 'w', encoding='utf-8') as file:\n",
    "    json.dump(list(emerald_matchids), file, ensure_ascii=False, indent=4)"
   ]
  },
  {
   "cell_type": "code",
   "execution_count": 12,
   "metadata": {},
   "outputs": [
    {
     "name": "stdout",
     "output_type": "stream",
     "text": [
      "Rate limit exceeded. Retrying in 12 seconds...\n",
      "Rate limit exceeded. Retrying in 12 seconds...\n",
      "Rate limit exceeded. Retrying in 12 seconds...\n",
      "Rate limit exceeded. Retrying in 12 seconds...\n",
      "Rate limit exceeded. Retrying in 12 seconds...\n",
      "Rate limit exceeded. Retrying in 12 seconds...\n",
      "Rate limit exceeded. Retrying in 12 seconds...\n",
      "Rate limit exceeded. Retrying in 12 seconds...\n",
      "14000\n",
      "2000\n"
     ]
    }
   ],
   "source": [
    "rank = \"diamond\"\n",
    "\n",
    "diamond_matchids = set({})\n",
    "reserve_diamond_matchids=set({})\n",
    "api_key = 'RGAPI-ad1788db-515f-42b6-9f1c-096d76edf3fe'\n",
    "path=f\"puuids/{rank}_puuids.json\"\n",
    "with open(path, \"r\") as file:\n",
    "    puuids = json.load(file)\n",
    "for puuid in puuids:\n",
    "    url = f\"https://sea.api.riotgames.com/lol/match/v5/matches/by-puuid/{puuid}/ids?type=ranked&start=0&count=20&api_key={api_key}\"\n",
    "    retries = 10\n",
    "    for i in range(retries):\n",
    "        response = requests.get(url)\n",
    "        if response.status_code == 200:\n",
    "            data = response.json()\n",
    "            count = 0\n",
    "            for i in range(len(data)):\n",
    "                if data[i] not in match_ids:\n",
    "                    if count < 10:\n",
    "                        match_ids.add(data[i])\n",
    "                        diamond_matchids.add(data[i])\n",
    "                        count+=1\n",
    "                    elif count == 10:\n",
    "                        reserve_diamond_matchids.add(data[i])\n",
    "                        count+=1\n",
    "                        break\n",
    "            break\n",
    "        elif response.status_code == 429:\n",
    "            print(\"Rate limit exceeded. Retrying in 12 seconds...\")\n",
    "            time.sleep(6)\n",
    "        else:\n",
    "            print(\"Failed to retrieve account PUUID. Status Code:\", response.status_code)\n",
    "            break\n",
    "if len(platinum_matchids) < 2000:\n",
    "    ids_to_add = list(reserve_diamond_matchids)[:2000-len(diamond_matchids)]\n",
    "    match_ids.update(ids_to_add)\n",
    "    diamond_matchids.update(ids_to_add)\n",
    "#kiem tra ket qua\n",
    "print(len(match_ids))\n",
    "print(len(diamond_matchids))\n",
    "\n",
    "with open(\"match_ids/all_matchids.json\", 'w', encoding='utf-8') as file:\n",
    "    json.dump(list(match_ids), file, ensure_ascii=False, indent=4)\n",
    "\n",
    "with open(f\"match_ids/{rank}_matchids.json\", 'w', encoding='utf-8') as file:\n",
    "    json.dump(list(diamond_matchids), file, ensure_ascii=False, indent=4)"
=======
   "execution_count": 12,
   "metadata": {},
   "outputs": [],
   "source": [
    "import json"
>>>>>>> 1d73b139f74a265bd789821942f7efb785fa0d51
   ]
  },
  {
   "cell_type": "code",
<<<<<<< HEAD
   "execution_count": 14,
=======
   "execution_count": null,
>>>>>>> 1d73b139f74a265bd789821942f7efb785fa0d51
   "metadata": {},
   "outputs": [
    {
     "name": "stdout",
     "output_type": "stream",
     "text": [
<<<<<<< HEAD
      "Rate limit exceeded. Retrying in 12 seconds...\n",
      "Rate limit exceeded. Retrying in 12 seconds...\n",
      "Rate limit exceeded. Retrying in 12 seconds...\n",
      "Rate limit exceeded. Retrying in 12 seconds...\n",
      "Rate limit exceeded. Retrying in 12 seconds...\n",
      "Rate limit exceeded. Retrying in 12 seconds...\n",
      "Rate limit exceeded. Retrying in 12 seconds...\n",
      "Rate limit exceeded. Retrying in 12 seconds...\n",
      "Rate limit exceeded. Retrying in 12 seconds...\n",
      "15971\n",
      "1971\n"
=======
      "{'1001': 'Boots', '1004': 'Faerie Charm', '1006': 'Rejuvenation Bead', '1011': \"Giant's Belt\", '1018': 'Cloak of Agility', '1026': 'Blasting Wand', '1027': 'Sapphire Crystal', '1028': 'Ruby Crystal', '1029': 'Cloth Armor', '1031': 'Chain Vest', '1033': 'Null-Magic Mantle', '1036': 'Long Sword', '1037': 'Pickaxe', '1038': 'B. F. Sword', '1042': 'Dagger', '1043': 'Recurve Bow', '1052': 'Amplifying Tome', '1053': 'Vampiric Scepter', '1054': \"Doran's Shield\", '1055': \"Doran's Blade\", '1056': \"Doran's Ring\", '1057': 'Negatron Cloak', '1058': 'Needlessly Large Rod', '1082': 'Dark Seal', '1083': 'Cull', '1101': 'Scorchclaw Pup', '1102': 'Gustwalker Hatchling', '1103': 'Mosstomper Seedling', '1105': 'Mosstomper Seedling', '1106': 'Gustwalker Hatchling', '1107': 'Scorchclaw Pup', '1500': 'Penetrating Bullets', '1501': 'Fortification', '1502': 'Reinforced Armor', '1503': \"Warden's Eye\", '1506': 'Reinforced Armor', '1507': 'Overcharged', '1508': 'Anti-tower Socks', '1509': 'Gusto', '1510': 'Phreakish Gusto', '1511': 'Super Mech Armor', '1512': 'Super Mech Power Field', '1515': 'Turret Plating', '1516': 'Structure Bounty', '1517': 'Structure Bounty', '1518': 'Structure Bounty', '1519': 'Structure Bounty', '1520': 'OvererchargedHA', '1521': 'Fortification', '1522': 'Tower Power-Up', '2003': 'Health Potion', '2010': 'Total Biscuit of Everlasting Will', '2019': 'Steel Sigil', '2020': 'The Brutalizer', '2021': 'Tunneler', '2022': 'Glowing Mote', '2031': 'Refillable Potion', '2033': 'Corrupting Potion', '2052': 'Poro-Snax', '2055': 'Control Ward', '2065': \"Shurelya's Battlesong\", '2138': 'Elixir of Iron', '2139': 'Elixir of Sorcery', '2140': 'Elixir of Wrath', '2150': 'Elixir of Skill', '2151': 'Elixir of Avarice', '2152': 'Elixir of Force', '2403': 'Minion Dematerializer', '2420': \"Seeker's Armguard\", '2421': 'Shattered Armguard', '2422': 'Slightly Magical Footwear', '2501': \"Overlord's Bloodmail\", '2502': 'Unending Despair', '2503': 'Blackfire Torch', '2504': 'Kaenic Rookern', '2508': 'Fated Ashes', '3002': 'Trailblazer', '3003': \"Archangel's Staff\", '3004': 'Manamune', '3006': \"Berserker's Greaves\", '3009': 'Boots of Swiftness', '3010': 'Symbiotic Soles', '3011': 'Chemtech Putrifier', '3013': 'Synchronized Souls', '3020': \"Sorcerer's Shoes\", '3024': 'Glacial Buckler', '3026': 'Guardian Angel', '3031': 'Infinity Edge', '3032': 'Yun Tal Wildarrows', '3033': 'Mortal Reminder', '3035': 'Last Whisper', '3036': \"Lord Dominik's Regards\", '3040': \"Seraph's Embrace\", '3041': \"Mejai's Soulstealer\", '3042': 'Muramana', '3044': 'Phage', '3046': 'Phantom Dancer', '3047': 'Plated Steelcaps', '3050': \"Zeke's Convergence\", '3051': 'Hearthbound Axe', '3053': \"Sterak's Gage\", '3057': 'Sheen', '3065': 'Spirit Visage', '3066': 'Winged Moonplate', '3067': 'Kindlegem', '3068': 'Sunfire Aegis', '3070': 'Tear of the Goddess', '3071': 'Black Cleaver', '3072': 'Bloodthirster', '3073': 'Experimental Hexplate', '3074': 'Ravenous Hydra', '3075': 'Thornmail', '3076': 'Bramble Vest', '3077': 'Tiamat', '3078': 'Trinity Force', '3082': \"Warden's Mail\", '3083': \"Warmog's Armor\", '3084': 'Heartsteel', '3085': \"Runaan's Hurricane\", '3086': 'Zeal', '3087': 'Statikk Shiv', '3089': \"Rabadon's Deathcap\", '3091': \"Wit's End\", '3094': 'Rapid Firecannon', '3100': 'Lich Bane', '3102': \"Banshee's Veil\", '3107': 'Redemption', '3108': 'Fiendish Codex', '3109': \"Knight's Vow\", '3110': 'Frozen Heart', '3111': \"Mercury's Treads\", '3113': 'Aether Wisp', '3114': 'Forbidden Idol', '3115': \"Nashor's Tooth\", '3116': \"Rylai's Crystal Scepter\", '3117': 'Mobility Boots', '3118': 'Malignance', '3119': \"Winter's Approach\", '3121': 'Fimbulwinter', '3123': \"Executioner's Calling\", '3124': \"Guinsoo's Rageblade\", '3133': \"Caulfield's Warhammer\", '3134': 'Serrated Dirk', '3135': 'Void Staff', '3137': 'Cryptbloom', '3139': 'Mercurial Scimitar', '3140': 'Quicksilver Sash', '3142': \"Youmuu's Ghostblade\", '3143': \"Randuin's Omen\", '3144': \"Scout's Slingshot\", '3145': 'Hextech Alternator', '3147': 'Haunting Guise', '3152': 'Hextech Rocketbelt', '3153': 'Blade of The Ruined King', '3155': 'Hexdrinker', '3156': 'Maw of Malmortius', '3157': \"Zhonya's Hourglass\", '3158': 'Ionian Boots of Lucidity', '3161': 'Spear of Shojin', '3165': 'Morellonomicon', '3172': 'Zephyr', '3179': 'Umbral Glaive', '3181': 'Hullbreaker', '3190': 'Locket of the Iron Solari', '3211': \"Spectre's Cowl\", '3222': \"Mikael's Blessing\", '3302': 'Terminus', '3330': 'Scarecrow Effigy', '3340': 'Stealth Ward', '3363': 'Farsight Alteration', '3364': 'Oracle Lens', '3400': 'Your Cut', '3504': 'Ardent Censer', '3508': 'Essence Reaver', '3599': \"Kalista's Black Spear\", '3600': \"Kalista's Black Spear\", '3742': \"Dead Man's Plate\", '3748': 'Titanic Hydra', '3801': 'Crystalline Bracer', '3802': 'Lost Chapter', '3803': 'Catalyst of Aeons', '3814': 'Edge of Night', '3865': 'World Atlas', '3866': 'Runic Compass', '3867': 'Bounty of Worlds', '3869': 'Celestial Opposition', '3870': 'Dream Maker', '3871': \"Zaz'Zak's Realmspike\", '3876': 'Solstice Sleigh', '3877': 'Bloodsong', '3901': '<rarityLegendary>Fire at Will</rarityLegendary><br><subtitleLeft><silver>500 Silver Serpents</silver></subtitleLeft>', '3902': \"<rarityLegendary>Death's Daughter</rarityLegendary><br><subtitleLeft><silver>500 Silver Serpents</silver></subtitleLeft>\", '3903': '<rarityLegendary>Raise Morale</rarityLegendary><br><subtitleLeft><silver>500 Silver Serpents</silver></subtitleLeft>', '3916': 'Oblivion Orb', '4005': 'Imperial Mandate', '4401': 'Force of Nature', '4628': 'Horizon Focus', '4629': 'Cosmic Drive', '4630': 'Blighting Jewel', '4632': 'Verdant Barrier', '4633': 'Riftmaker', '4635': 'Leeching Leer', '4636': 'Night Harvester', '4637': 'Demonic Embrace', '4638': 'Watchful Wardstone', '4641': 'Stirring Wardstone', '4642': 'Bandleglass Mirror', '4643': 'Vigilant Wardstone', '4645': 'Shadowflame', '4646': 'Stormsurge', '6333': \"Death's Dance\", '6609': 'Chempunk Chainsword', '6610': 'Sundered Sky', '6616': 'Staff of Flowing Water', '6617': 'Moonstone Renewer', '6620': 'Echoes of Helia', '6621': 'Dawncore', '6631': 'Stridebreaker', '6653': \"Liandry's Torment\", '6655': \"Luden's Companion\", '6657': 'Rod of Ages', '6660': \"Bami's Cinder\", '6662': 'Iceborn Gauntlet', '6664': 'Hollow Radiance', '6665': \"Jak'Sho, The Protean\", '6670': 'Noonquiver', '6672': 'Kraken Slayer', '6673': 'Immortal Shieldbow', '6675': 'Navori Flickerblade', '6676': 'The Collector', '6690': 'Rectrix', '6692': 'Eclipse', '6693': \"Prowler's Claw\", '6694': \"Serylda's Grudge\", '6695': \"Serpent's Fang\", '6696': 'Axiom Arc', '6697': 'Hubris', '6698': 'Profane Hydra', '6699': 'Voltaic Cyclosword', '6701': 'Opportunity', '7050': 'Gangplank Placeholder', '8001': \"Anathema's Chains\", '8020': 'Abyssal Mask'}\n",
      "243\n"
>>>>>>> 1d73b139f74a265bd789821942f7efb785fa0d51
     ]
    }
   ],
   "source": [
<<<<<<< HEAD
    "rank = \"master\"\n",
    "\n",
    "master_matchids = set({})\n",
    "reserve_master_matchids=set({})\n",
    "api_key = 'RGAPI-ad1788db-515f-42b6-9f1c-096d76edf3fe'\n",
    "path=f\"puuids/{rank}_puuids.json\"\n",
    "with open(path, \"r\") as file:\n",
    "    puuids = json.load(file)\n",
    "for puuid in puuids:\n",
    "    url = f\"https://sea.api.riotgames.com/lol/match/v5/matches/by-puuid/{puuid}/ids?type=ranked&start=0&count=20&api_key={api_key}\"\n",
    "    retries = 10\n",
    "    for i in range(retries):\n",
    "        response = requests.get(url)\n",
    "        if response.status_code == 200:\n",
    "            data = response.json()\n",
    "            count = 0\n",
    "            for i in range(len(data)):\n",
    "                if data[i] not in match_ids:\n",
    "                    if count < 10:\n",
    "                        match_ids.add(data[i])\n",
    "                        master_matchids.add(data[i])\n",
    "                        count+=1\n",
    "                    elif count == 10:\n",
    "                        reserve_master_matchids.add(data[i])\n",
    "                        count+=1\n",
    "                        break\n",
    "            break\n",
    "        elif response.status_code == 429:\n",
    "            print(\"Rate limit exceeded. Retrying in 12 seconds...\")\n",
    "            time.sleep(6)\n",
    "        else:\n",
    "            print(\"Failed to retrieve account PUUID. Status Code:\", response.status_code)\n",
    "            break\n",
    "if len(platinum_matchids) < 2000:\n",
    "    ids_to_add = list(reserve_master_matchids)[:2000-len(master_matchids)]\n",
    "    match_ids.update(ids_to_add)\n",
    "    master_matchids.update(ids_to_add)\n",
    "#kiem tra ket qua\n",
    "print(len(match_ids))\n",
    "print(len(master_matchids))\n",
    "\n",
    "with open(\"match_ids/all_matchids.json\", 'w', encoding='utf-8') as file:\n",
    "    json.dump(list(match_ids), file, ensure_ascii=False, indent=4)\n",
    "\n",
    "with open(f\"match_ids/{rank}_matchids.json\", 'w', encoding='utf-8') as file:\n",
    "    json.dump(list(master_matchids), file, ensure_ascii=False, indent=4)"
=======
    "with open(\"dragon_data/item.json\", \"r\") as file:\n",
    "    item_data_dict = json.load(file)\n",
    "\n",
    "item_raw_data = item_data_dict['data']\n",
    "\n",
    "item_list = {key: value[\"name\"] for key, value in item_raw_data.items() if value[\"maps\"][\"11\"] == True}\n",
    "\n",
    "print(item_list)\n",
    "print(len(item_list))"
>>>>>>> 1d73b139f74a265bd789821942f7efb785fa0d51
   ]
  },
  {
   "cell_type": "code",
<<<<<<< HEAD
   "execution_count": 16,
=======
   "execution_count": 30,
>>>>>>> 1d73b139f74a265bd789821942f7efb785fa0d51
   "metadata": {},
   "outputs": [
    {
     "name": "stdout",
     "output_type": "stream",
     "text": [
<<<<<<< HEAD
      "Rate limit exceeded. Retrying in 12 seconds...\n",
      "Rate limit exceeded. Retrying in 12 seconds...\n",
      "Rate limit exceeded. Retrying in 12 seconds...\n",
      "Rate limit exceeded. Retrying in 12 seconds...\n",
      "Rate limit exceeded. Retrying in 12 seconds...\n",
      "Rate limit exceeded. Retrying in 12 seconds...\n",
      "Rate limit exceeded. Retrying in 12 seconds...\n",
      "Rate limit exceeded. Retrying in 12 seconds...\n",
      "17604\n",
      "1633\n"
=======
      "{'266': 'Aatrox', '103': 'Ahri', '84': 'Akali', '166': 'Akshan', '12': 'Alistar', '32': 'Amumu', '34': 'Anivia', '1': 'Annie', '523': 'Aphelios', '22': 'Ashe', '136': 'AurelionSol', '893': 'Aurora', '268': 'Azir', '432': 'Bard', '200': 'Belveth', '53': 'Blitzcrank', '63': 'Brand', '201': 'Braum', '233': 'Briar', '51': 'Caitlyn', '164': 'Camille', '69': 'Cassiopeia', '31': 'Chogath', '42': 'Corki', '122': 'Darius', '131': 'Diana', '119': 'Draven', '36': 'DrMundo', '245': 'Ekko', '60': 'Elise', '28': 'Evelynn', '81': 'Ezreal', '9': 'Fiddlesticks', '114': 'Fiora', '105': 'Fizz', '3': 'Galio', '41': 'Gangplank', '86': 'Garen', '150': 'Gnar', '79': 'Gragas', '104': 'Graves', '887': 'Gwen', '120': 'Hecarim', '74': 'Heimerdinger', '910': 'Hwei', '420': 'Illaoi', '39': 'Irelia', '427': 'Ivern', '40': 'Janna', '59': 'JarvanIV', '24': 'Jax', '126': 'Jayce', '202': 'Jhin', '222': 'Jinx', '145': 'Kaisa', '429': 'Kalista', '43': 'Karma', '30': 'Karthus', '38': 'Kassadin', '55': 'Katarina', '10': 'Kayle', '141': 'Kayn', '85': 'Kennen', '121': 'Khazix', '203': 'Kindred', '240': 'Kled', '96': 'KogMaw', '897': 'KSante', '7': 'Leblanc', '64': 'LeeSin', '89': 'Leona', '876': 'Lillia', '127': 'Lissandra', '236': 'Lucian', '117': 'Lulu', '99': 'Lux', '54': 'Malphite', '90': 'Malzahar', '57': 'Maokai', '11': 'MasterYi', '902': 'Milio', '21': 'MissFortune', '62': 'MonkeyKing', '82': 'Mordekaiser', '25': 'Morgana', '950': 'Naafiri', '267': 'Nami', '75': 'Nasus', '111': 'Nautilus', '518': 'Neeko', '76': 'Nidalee', '895': 'Nilah', '56': 'Nocturne', '20': 'Nunu', '2': 'Olaf', '61': 'Orianna', '516': 'Ornn', '80': 'Pantheon', '78': 'Poppy', '555': 'Pyke', '246': 'Qiyana', '133': 'Quinn', '497': 'Rakan', '33': 'Rammus', '421': 'RekSai', '526': 'Rell', '888': 'Renata', '58': 'Renekton', '107': 'Rengar', '92': 'Riven', '68': 'Rumble', '13': 'Ryze', '360': 'Samira', '113': 'Sejuani', '235': 'Senna', '147': 'Seraphine', '875': 'Sett', '35': 'Shaco', '98': 'Shen', '102': 'Shyvana', '27': 'Singed', '14': 'Sion', '15': 'Sivir', '72': 'Skarner', '901': 'Smolder', '37': 'Sona', '16': 'Soraka', '50': 'Swain', '517': 'Sylas', '134': 'Syndra', '223': 'TahmKench', '163': 'Taliyah', '91': 'Talon', '44': 'Taric', '17': 'Teemo', '412': 'Thresh', '18': 'Tristana', '48': 'Trundle', '23': 'Tryndamere', '4': 'TwistedFate', '29': 'Twitch', '77': 'Udyr', '6': 'Urgot', '110': 'Varus', '67': 'Vayne', '45': 'Veigar', '161': 'Velkoz', '711': 'Vex', '254': 'Vi', '234': 'Viego', '112': 'Viktor', '8': 'Vladimir', '106': 'Volibear', '19': 'Warwick', '498': 'Xayah', '101': 'Xerath', '5': 'XinZhao', '157': 'Yasuo', '777': 'Yone', '83': 'Yorick', '350': 'Yuumi', '154': 'Zac', '238': 'Zed', '221': 'Zeri', '115': 'Ziggs', '26': 'Zilean', '142': 'Zoe', '143': 'Zyra'}\n",
      "168\n"
>>>>>>> 1d73b139f74a265bd789821942f7efb785fa0d51
     ]
    }
   ],
   "source": [
<<<<<<< HEAD
    "rank = \"grandmaster\"\n",
    "\n",
    "grandmaster_matchids = set({})\n",
    "reserve_grandmaster_matchids=set({})\n",
    "api_key = 'RGAPI-ad1788db-515f-42b6-9f1c-096d76edf3fe'\n",
    "path=f\"puuids/{rank}_puuids.json\"\n",
    "with open(path, \"r\") as file:\n",
    "    puuids = json.load(file)\n",
    "for puuid in puuids:\n",
    "    url = f\"https://sea.api.riotgames.com/lol/match/v5/matches/by-puuid/{puuid}/ids?type=ranked&start=0&count=20&api_key={api_key}\"\n",
    "    retries = 10\n",
    "    for i in range(retries):\n",
    "        response = requests.get(url)\n",
    "        if response.status_code == 200:\n",
    "            data = response.json()\n",
    "            count = 0\n",
    "            for i in range(len(data)):\n",
    "                if data[i] not in match_ids:\n",
    "                    if count < 10:\n",
    "                        match_ids.add(data[i])\n",
    "                        grandmaster_matchids.add(data[i])\n",
    "                        count+=1\n",
    "                    elif count == 10:\n",
    "                        reserve_grandmaster_matchids.add(data[i])\n",
    "                        count+=1\n",
    "                        break\n",
    "            break\n",
    "        elif response.status_code == 429:\n",
    "            print(\"Rate limit exceeded. Retrying in 12 seconds...\")\n",
    "            time.sleep(6)\n",
    "        else:\n",
    "            print(\"Failed to retrieve account PUUID. Status Code:\", response.status_code)\n",
    "            break\n",
    "if len(platinum_matchids) < 2000:\n",
    "    ids_to_add = list(reserve_grandmaster_matchids)[:2000-len(grandmaster_matchids)]\n",
    "    match_ids.update(ids_to_add)\n",
    "    grandmaster_matchids.update(ids_to_add)\n",
    "#kiem tra ket qua\n",
    "print(len(match_ids))\n",
    "print(len(grandmaster_matchids))\n",
    "\n",
    "with open(\"match_ids/all_matchids.json\", 'w', encoding='utf-8') as file:\n",
    "    json.dump(list(match_ids), file, ensure_ascii=False, indent=4)\n",
    "\n",
    "with open(f\"match_ids/{rank}_matchids.json\", 'w', encoding='utf-8') as file:\n",
    "    json.dump(list(grandmaster_matchids), file, ensure_ascii=False, indent=4)"
=======
    "with open(\"dragon_data/champion.json\", \"r\") as file:\n",
    "    champion_data_dict = json.load(file)\n",
    "\n",
    "champion_raw_data = champion_data_dict[\"data\"]\n",
    "\n",
    "champion_list = {key: value[\"key\"] for key, value in champion_raw_data.items()}\n",
    "final_champion_list = {value: key for key, value in champion_list.items()}\n",
    "\n",
    "print(final_champion_list)\n",
    "print(len(final_champion_list))"
>>>>>>> 1d73b139f74a265bd789821942f7efb785fa0d51
   ]
  },
  {
   "cell_type": "code",
<<<<<<< HEAD
   "execution_count": 6,
   "metadata": {},
   "outputs": [
    {
     "name": "stdout",
     "output_type": "stream",
     "text": [
      "Total distinct match IDs: 1633\n"
     ]
    }
   ],
   "source": [
    "import json\n",
    "\n",
    "with open('match_ids/grandmaster_matchids.json', 'r') as file:\n",
    "    check_match_id = json.load(file)\n",
    "\n",
    "distinct_match_ids = set(check_match_id)\n",
    "\n",
    "count_distinct = len(distinct_match_ids)\n",
    "\n",
    "print(f\"Total distinct match IDs: {count_distinct}\")\n"
   ]
  },
  {
   "cell_type": "code",
   "execution_count": 6,
   "metadata": {},
   "outputs": [
    {
     "name": "stdout",
     "output_type": "stream",
     "text": [
      "100\n",
      "200\n",
      "300\n",
      "400\n",
      "500\n",
      "600\n",
      "700\n",
      "800\n",
      "900\n",
      "1000\n",
      "1100\n",
      "1200\n",
      "1300\n",
      "1400\n",
      "1500\n",
      "1600\n",
      "1700\n",
      "1800\n",
      "1900\n",
      "2000\n"
     ]
    }
   ],
   "source": [
    "api_key = \"RGAPI-c43043f6-67d9-4e4e-9254-c7f53fae265c\"\n",
    "\n",
    "# rank muon thao tac\n",
    "rank = \"diamond\"\n",
    "\n",
    "#list chua thong tin ve 2000 tran (CANH BAO KICH CO LON)\n",
    "match_datas = []\n",
    "\n",
    "# lay 1 list 2000 matchId cua rank\n",
    "with open(f\"match_ids/{rank}_matchids.json\", \"r\") as file:\n",
    "    match_ids = json.load(file)\n",
    "\n",
    "for match_id in match_ids:\n",
    "    url = f\"https://sea.api.riotgames.com/lol/match/v5/matches/{match_id}?api_key={api_key}\"\n",
    "    retries = 12\n",
    "    for i in range(retries):\n",
    "        response = requests.get(url)\n",
    "        if response.status_code == 200:\n",
    "            match_datas.append(response.json())\n",
    "            if len(match_datas)%100==0:\n",
    "                print(len(match_datas))\n",
    "            break\n",
    "        elif response.status_code == 429:\n",
    "            time.sleep(6)\n",
    "        else:\n",
    "            print(\"Failed to retrieve account PUUID. Status Code:\", response.status_code)\n",
    "            break\n",
    "with open(\"diamond.json\", 'w', encoding='utf-8') as file:\n",
    "    json.dump(match_datas, file, ensure_ascii=False, indent=4)"
=======
   "execution_count": 32,
   "metadata": {},
   "outputs": [],
   "source": [
    "with open(\"dragon_data/item_list.json\", \"w\") as file:\n",
    "    json.dump(item_list, file, ensure_ascii=False, indent=4)\n",
    "\n",
    "with open(\"dragon_data/champion_list.json\", \"w\") as file:\n",
    "    json.dump(final_champion_list, file, ensure_ascii=False, indent=4)"
>>>>>>> 1d73b139f74a265bd789821942f7efb785fa0d51
   ]
  }
 ],
 "metadata": {
  "kernelspec": {
   "display_name": "Python 3",
   "language": "python",
   "name": "python3"
  },
  "language_info": {
   "codemirror_mode": {
    "name": "ipython",
    "version": 3
   },
   "file_extension": ".py",
   "mimetype": "text/x-python",
   "name": "python",
   "nbconvert_exporter": "python",
   "pygments_lexer": "ipython3",
<<<<<<< HEAD
   "version": "3.12.4"
=======
   "version": "3.12.1"
>>>>>>> 1d73b139f74a265bd789821942f7efb785fa0d51
  }
 },
 "nbformat": 4,
 "nbformat_minor": 2
}
