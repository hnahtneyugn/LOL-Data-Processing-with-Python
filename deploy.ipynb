{
 "cells": [
  {
   "cell_type": "code",
   "execution_count": 1,
   "metadata": {},
   "outputs": [],
   "source": [
    "import dash\n",
    "from dash import dcc\n",
    "from dash import html\n",
    "from dash import dash_table\n",
    "from dash import Dash, _dash_renderer\n",
    "from dash import callback\n",
    "from dash.dependencies import Input, Output, ClientsideFunction\n",
    "\n",
    "import numpy as np\n",
    "import pandas as pd\n",
    "import pathlib\n",
    "import plotly.express as px\n",
    "import dash_mantine_components as dmc\n",
    "_dash_renderer._set_react_version(\"18.2.0\")"
   ]
  },
  {
   "cell_type": "code",
   "execution_count": 2,
   "metadata": {},
   "outputs": [],
   "source": [
    "full_champion_data = pd.read_csv('csv/full_champion_data.csv', index_col=0)\n",
    "champion_role_winrate = pd.read_csv('csv/champion_role_winrate.csv', index_col=0)\n",
    "champion_role_pickrate = pd.read_csv('csv/champion_role_pickrate.csv', index_col=0)\n",
    "game_duration = pd.read_csv('csv/game_duration.csv', index_col=0)\n",
    "game_time_graph = pd.read_csv('csv/game_time_graph.csv', index_col=0)\n",
    "winrate_objective = pd.read_csv('csv/winrate_objective.csv', index_col=0)"
   ]
  },
  {
   "cell_type": "code",
   "execution_count": 3,
   "metadata": {},
   "outputs": [],
   "source": [
    "winrate_objective_color = [\n",
    "    \"indigo.6\", \"blue.6\", \"teal.6\", \"green.6\", \n",
    "    \"yellow.6\", \"orange.6\", \"red.6\", \"pink.6\", \"purple.6\"\n",
    "]"
   ]
  },
  {
   "cell_type": "code",
   "execution_count": 7,
   "metadata": {},
   "outputs": [
    {
     "data": {
      "text/html": [
       "\n",
       "        <iframe\n",
       "            width=\"100%\"\n",
       "            height=\"650\"\n",
       "            src=\"http://127.0.0.1:8050/\"\n",
       "            frameborder=\"0\"\n",
       "            allowfullscreen\n",
       "            \n",
       "        ></iframe>\n",
       "        "
      ],
      "text/plain": [
       "<IPython.lib.display.IFrame at 0x1219ef5f0>"
      ]
     },
     "metadata": {},
     "output_type": "display_data"
    }
   ],
   "source": [
    "app = dash.Dash(\n",
    "    __name__,\n",
    "    meta_tags=[{\"name\": \"viewport\", \"content\": \"width=device-width, initial-scale=1\"}],\n",
    "    external_stylesheets=dmc.styles.ALL\n",
    ")\n",
    "app.title = \"LOL Analysis Project Data Visualization\"\n",
    "\n",
    "server = app.server\n",
    "app.config.suppress_callback_exceptions = True\n",
    "\n",
    "app.layout = dmc.MantineProvider(\n",
    "    forceColorScheme=\"light\",\n",
    "    children=[\n",
    "        dmc.Title(\"League of Legends Data Visualization and Analysis\", id='dashboard-title', size=\"h3\", style={\"textAlign\": \"center\"}),\n",
    "        dmc.Grid([\n",
    "            dmc.GridCol([\n",
    "                dmc.RadioGroup(children=dmc.Group([dmc.Radio(i, value=i) for i in winrate_objective.columns]), \n",
    "                id='winrate-objective-radio', \n",
    "                value=winrate_objective.columns[0], \n",
    "                size='sm'),\n",
    "                dash_table.DataTable(id='winrate-objective-table', data=winrate_objective.reset_index().to_dict('records'), style_table={'overflowX': 'auto'})\n",
    "            ], span=6),\n",
    "            dmc.GridCol([\n",
    "                dmc.LineChart(\n",
    "                    id='winrate-objective-linechart',\n",
    "                    h=300,\n",
    "                    data=winrate_objective.reset_index().to_dict('records'),\n",
    "                    dataKey=winrate_objective.index,\n",
    "                    series=[{\"name\": objective, \"color\": winrate_objective_color[i % len(winrate_objective_color)],}\n",
    "                             for i, objective in enumerate(winrate_objective.columns)],\n",
    "                    curveType=\"linear\",\n",
    "                    tickLine=\"xy\",\n",
    "                    xAxisLabel=\"Rank\",\n",
    "                    yAxisLabel=\"Winrate (%)\",\n",
    "                )\n",
    "            ], span=6)\n",
    "        ])\n",
    "    ]\n",
    ")\n",
    "\n",
    "if __name__ == \"__main__\":\n",
    "    app.run(debug=True)"
   ]
  }
 ],
 "metadata": {
  "kernelspec": {
   "display_name": "Python in project_venv",
   "language": "python",
   "name": "kernel_project_venv"
  },
  "language_info": {
   "codemirror_mode": {
    "name": "ipython",
    "version": 3
   },
   "file_extension": ".py",
   "mimetype": "text/x-python",
   "name": "python",
   "nbconvert_exporter": "python",
   "pygments_lexer": "ipython3",
   "version": "3.12.1"
  }
 },
 "nbformat": 4,
 "nbformat_minor": 2
}
