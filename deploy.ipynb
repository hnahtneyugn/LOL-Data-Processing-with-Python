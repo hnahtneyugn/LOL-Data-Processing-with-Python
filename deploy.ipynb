{
 "cells": [
  {
   "cell_type": "code",
   "execution_count": 3,
   "metadata": {},
   "outputs": [],
   "source": [
    "import dash\n",
    "from dash import dcc\n",
    "from dash import html\n",
    "from dash import dash_table\n",
    "from dash import Dash, _dash_renderer\n",
    "from dash.dependencies import Input, Output, ClientsideFunction\n",
    "\n",
    "import numpy as np\n",
    "import pandas as pd\n",
    "import pathlib\n",
    "import plotly.express as px\n",
    "import dash_mantine_components as dmc\n",
    "_dash_renderer._set_react_version(\"18.2.0\")"
   ]
  },
  {
   "cell_type": "code",
   "execution_count": 2,
   "metadata": {},
   "outputs": [],
   "source": [
    "full_champion_data = pd.read_csv('csv/full_champion_data.csv')\n",
    "champion_role_winrate = pd.read_csv('csv/champion_role_winrate.csv')\n",
    "champion_role_pickrate = pd.read_csv('csv/champion_role_pickrate.csv')\n",
    "game_duration = pd.read_csv('csv/game_duration.csv')\n",
    "game_time_graph = pd.read_csv('csv/game_time_graph.csv')\n",
    "winrate_objective = pd.read_csv('csv/winrate_objective.csv')"
   ]
  },
  {
   "cell_type": "code",
   "execution_count": null,
   "metadata": {},
   "outputs": [],
   "source": [
    "app = dash.Dash(\n",
    "    __name__,\n",
    "    meta_tags=[{\"name\": \"viewport\", \"content\": \"width=device-width, initial-scale=1\"}],\n",
    "    external_stylesheets=dmc.styles.ALL\n",
    ")\n",
    "app.title = \"LOL Analysis Project Data Visualization\"\n",
    "\n",
    "server = app.server\n",
    "app.config.suppress_callback_exceptions = True\n",
    "\n",
    "app.layout = dmc.MantineProvider()      # remember to code here!\n",
    "\n",
    "if __name__ == \"__main__\":\n",
    "    app.run(debug=True)"
   ]
  }
 ],
 "metadata": {
  "kernelspec": {
   "display_name": "Python 3",
   "language": "python",
   "name": "python3"
  },
  "language_info": {
   "codemirror_mode": {
    "name": "ipython",
    "version": 3
   },
   "file_extension": ".py",
   "mimetype": "text/x-python",
   "name": "python",
   "nbconvert_exporter": "python",
   "pygments_lexer": "ipython3",
   "version": "3.12.4"
  }
 },
 "nbformat": 4,
 "nbformat_minor": 2
}
