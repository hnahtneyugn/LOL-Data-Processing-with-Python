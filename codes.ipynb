{
 "cells": [
  {
   "cell_type": "code",
   "execution_count": 1,
   "metadata": {},
   "outputs": [],
   "source": [
    "# import the necessary libraries\n",
    "import requests\n",
    "import json\n",
    "import time"
   ]
  },
  {
   "cell_type": "markdown",
   "metadata": {},
   "source": [
    "## 1.GETTING RAW DATA"
   ]
  },
  {
   "cell_type": "markdown",
   "metadata": {},
   "source": [
    "<span style =\"font-size: 24px;\"> 1.1.Getting summonerId</span><br>"
   ]
  },
  {
   "cell_type": "markdown",
   "metadata": {},
   "source": [
    "<span style =\"font-size: 20px;\"> 1.1.1.Getting summonerId of ranks below master</span><br>"
   ]
  },
  {
   "cell_type": "markdown",
   "metadata": {},
   "source": [
    "<span style =\"font-size: 16px;\">From master onwards, ranks no longer have divisions, which makes their division only I instead of I, II, III, and IV</span><br>\n",
    "<span style =\"font-size: 16px;\">Also, the higher the rank, the less the number of players, some doesn't even have enough 200</span><br>\n",
    "<span style =\"font-size: 16px;\">Therefore, for these higher ranks, we will use another way to work with them</span><br>"
   ]
  },
  {
   "cell_type": "code",
   "execution_count": null,
   "metadata": {},
   "outputs": [],
   "source": [
    "def get_all_low_tier_summonerId(api_key):\n",
    "\n",
    "    # All the ranks that we want to work with\n",
    "    tiers = [\"IRON\", \"BRONZE\", \"SILVER\", \"GOLD\", \"PLATINUM\", \"EMERALD\", \"DIAMOND\"]\n",
    "\n",
    "    # 7 first ranks each has 4 divison : I, II, III, IV. So we will get 50 summonerId for each divion\n",
    "    divisions = [\"I\", \"II\", \"III\", \"IV\"]\n",
    "\n",
    "    for tier in tiers:\n",
    "        # A list consists of summonerId of the rank, we will get 200 summonerId for each rank\n",
    "        summoner_ids=[]\n",
    "        for division in divisions:\n",
    "            url = f\"https://vn2.api.riotgames.com/lol/league-exp/v4/entries/RANKED_SOLO_5x5/{tier}/{division}?page=1&api_key={api_key}\"\n",
    "            response = requests.get(url)\n",
    "            if response.status_code == 200:\n",
    "                data = response.json() # data is a list of dicts, each contains information about an account. We will only get the summonerId\n",
    "                summoner_ids +=[entry['summonerId'] for entry in data[:50]] #get 50 elements from data, and add their summonerId value to the list\n",
    "            else:\n",
    "                print(\"Failed to retrieve account PUUID. Status Code:\", response.status_code)\n",
    "\n",
    "        # check if we got enough 200 summonerId. If true, save them to a json file\n",
    "        if len(summoner_ids) == 200:\n",
    "            with open(f\"summoner_ids/{tier}_summoner_ids.json\", 'w', encoding='utf-8') as file:\n",
    "                json.dump(summoner_ids, file, ensure_ascii=False, indent=4)\n",
    "            print(f\"got {tier}'s 200 summonerIds succesfully!\")\n",
    "        else:\n",
    "            print(f\"something is wrong! {tier} has \", len(summoner_ids), \"summonerIds!\")"
   ]
  },
  {
   "cell_type": "markdown",
   "metadata": {},
   "source": [
    "<span style =\"font-size: 20px;\"> 1.1.2.Getting summonerId of ranks from master onwards</span><br>"
   ]
  },
  {
   "cell_type": "markdown",
   "metadata": {},
   "source": [
    "<span style =\"font-size: 16px;\">Now, ranks no longer have divisions, so the division will always be I.</span><br>\n",
    "<span style =\"font-size: 16px;\">These higher ranks have a limited number of players; Therefore, if a rank's number of players is less than 200, we will get as many as possible, and compensate for this by increasing the number of matches we get from each players.</span><br>\n",
    "<span style =\"font-size: 16px;\">Instead of getting the summonerIds of each rank with one run, we will do each seperately to check</span><br>"
   ]
  },
  {
   "cell_type": "code",
   "execution_count": null,
   "metadata": {},
   "outputs": [],
   "source": [
    "def get_high_tier_summonerId(api_key, tier):\n",
    "\n",
    "    # A list to store summonerId of the rank\n",
    "    summoner_ids=[]\n",
    "\n",
    "    \"\"\"\n",
    "    in these 3 ranks, we don't know if the number of players is more than 200 or not.\n",
    "    Therefore, we will get all the summonerId first.\n",
    "    After that, we check if the number is more than 200.\n",
    "    If it does, remove the unecessary Ids\n",
    "    For the ranks that its number of players is less than 200, after getting all of its summonerId,\n",
    "    we will check the number with the real number via ingame leaderboard.\n",
    "    After making sure they are equal, save it\n",
    "    \"\"\"\n",
    "\n",
    "    url = f\"https://vn2.api.riotgames.com/lol/league-exp/v4/entries/RANKED_SOLO_5x5/{tier}/I?page=1&api_key={api_key}\"\n",
    "    response = requests.get(url)\n",
    "    if response.status_code == 200:\n",
    "        data = response.json()\n",
    "        summoner_ids +=[entry['summonerId'] for entry in data]\n",
    "    else:\n",
    "        print(\"Failed to retrieve account PUUID. Status Code:\", response.status_code)\n",
    "    if len(summoner_ids) > 200:\n",
    "        summoner_ids = summoner_ids[:200]\n",
    "    print(\"got\", len(summoner_ids), f\"summonerIds from rank {tier}\")    #print out the number of summonerIds to check\n",
    "    return summoner_ids"
   ]
  },
  {
   "cell_type": "code",
   "execution_count": null,
   "metadata": {},
   "outputs": [],
   "source": [
    "# after checking, if nothing is wrong, we save\n",
    "# for example:\n",
    "master_summoner_ids = get_high_tier_summonerId('RGAPI-898a3f42-867f-410a-9845-ca10dd463281', 'master')\n",
    "with open(f\"summoner_ids/master_summoner_ids.json\", 'w', encoding='utf-8') as file:\n",
    "    json.dump(master_summoner_ids, file, ensure_ascii=False, indent=4)"
   ]
  },
  {
   "cell_type": "markdown",
   "metadata": {},
   "source": [
    "<span style =\"font-size: 24px;\"> 1.2.Getting puuid from summonerId</span><br>"
   ]
  },
  {
   "cell_type": "markdown",
   "metadata": {},
   "source": [
    "<span style =\"font-size: 16px;\">Now we will have to send 200 requests for each rank, doing all 10 ranks at one run will take a really long time and any error will be a disaster.</span><br>\n",
    "<span style =\"font-size: 16px;\">Therefore, we will work with each rank seperately.</span><br>"
   ]
  },
  {
   "cell_type": "code",
   "execution_count": null,
   "metadata": {},
   "outputs": [],
   "source": [
    "def get_puuid(api_key, tier):\n",
    "\n",
    "    # path of the json file that stores the rank's summonerIds\n",
    "    path= f\"summoner_ids/{tier}_summoner_ids.json\"\n",
    "\n",
    "    # A list to store puuids\n",
    "    puuids = []\n",
    "\n",
    "    # Get summonerIds from the json file\n",
    "    with open(path, \"r\") as file:\n",
    "        summoner_ids = json.load(file)\n",
    "\n",
    "    # check its number:\n",
    "    print(len(summoner_ids))\n",
    "\n",
    "    for summoner_id in summoner_ids:\n",
    "        url = f\"https://vn2.api.riotgames.com/lol/summoner/v4/summoners/{summoner_id}?api_key={api_key}\"\n",
    "        retries = 12\n",
    "        for i in range(retries):\n",
    "            response = requests.get(url)\n",
    "            if response.status_code == 200:\n",
    "                data = response.json() # data responded is a dict that contains some basic information of the account, we need its puuid\n",
    "                puuids.append(data[\"puuid\"])\n",
    "                break\n",
    "            elif response.status_code == 429:\n",
    "                time.sleep(6)\n",
    "            else:\n",
    "                print(\"Failed to retrieve account PUUID. Status Code:\", response.status_code)\n",
    "                break\n",
    "\n",
    "    # check the number of puuids after requesting\n",
    "    print(\"got\", len(puuids), f\"of rank {tier}\")\n",
    "\n",
    "    # if nothing goes wrong, save the puuids\n",
    "    if len(puuids) == len(summoner_ids):\n",
    "        with open(f\"puuids/{tier}_puuids.json\", 'w', encoding='utf-8') as file:\n",
    "            json.dump(puuids, file, ensure_ascii=False, indent=4)"
   ]
  },
  {
   "cell_type": "markdown",
   "metadata": {},
   "source": [
    "<span style =\"font-size: 24px;\"> 1.3.Getting matchId using puuid</span><br>"
   ]
  },
  {
   "cell_type": "markdown",
   "metadata": {},
   "source": [
    "<span style =\"font-size: 16px;\">Now we need to get 2000 matchIds for each rank, each matchId must be unique.</span><br>\n",
    "<span style =\"font-size: 16px;\">We've already got 200 players's puuid for each rank (most of it). Idealy, we will want to get 10 matchIds for each puuid (each request will give us 20 for each puuid)</span><br>\n",
    "<span style =\"font-size: 16px;\">However, there are circumstances where this is impossible:</span><br>\n",
    "<span style =\"font-size: 16px;\">Ranks like master, grandmaster and challenger has very few players, the probality of them facing each other in a match is really high(each match has 10 players, and challenger, for example, has about 150 players)</span><br>\n",
    "<span style =\"font-size: 16px;\">Because of that, getting just 10 matches for each puuid won't be enough for these ranks, so a reserve set - reserve_matchids is created to store unique exceeding matchIds of a puuid after getting enough 10 from it.</span><br>\n",
    "<span style =\"font-size: 16px;\">After going through all the puuids in the rank, if the number of unique matchIds is less than 2000, we will add matchIds from reserve_matchids in.</span><br>\n",
    "<span style =\"font-size: 16px;\">Also, players of 2 different ranks can also be in the same match, so we will need to store all the matchIds we got to a set and check if any new matchId we want to add is already in it.</span><br>\n",
    "<span style =\"font-size: 16px;\">For the highest rank - challenger, since it has even less player, even getting all of the matchIds won't be enough.</span><br>\n",
    "<span style =\"font-size: 16px;\">Luckily, these players play alot, so we will just need to wait for them to play more, by get the matchIds once, and do it again few days later until we get enough 2000 unique matches.</span><br>\n",
    "<span style =\"font-size: 16px;\">Similar to puuId, we will have to send 1 request for each player. Doing 9 ranks at the same time is not a wise choice and so we will do it rank by rank</span><br>"
   ]
  },
  {
   "cell_type": "code",
   "execution_count": null,
   "metadata": {},
   "outputs": [],
   "source": [
    "# create a set to store all the matchIds\n",
    "match_ids = set({})"
   ]
  },
  {
   "cell_type": "code",
   "execution_count": null,
   "metadata": {},
   "outputs": [
    {
     "name": "stdout",
     "output_type": "stream",
     "text": [
      "Rate limit exceeded. Retrying in 12 seconds...\n",
      "Rate limit exceeded. Retrying in 12 seconds...\n",
      "Rate limit exceeded. Retrying in 12 seconds...\n",
      "Rate limit exceeded. Retrying in 12 seconds...\n",
      "Rate limit exceeded. Retrying in 12 seconds...\n",
      "Rate limit exceeded. Retrying in 12 seconds...\n",
      "Rate limit exceeded. Retrying in 12 seconds...\n",
      "Rate limit exceeded. Retrying in 12 seconds...\n",
      "Rate limit exceeded. Retrying in 12 seconds...\n",
      "Rate limit exceeded. Retrying in 12 seconds...\n",
      "2000\n",
      "2000\n"
     ]
    }
   ],
   "source": [
    "def get_matchId(api_key,tier):\n",
    "\n",
    "    # create a set to store the rank's matchIds\n",
    "    matchids = set({})\n",
    "\n",
    "    # create the reserve set\n",
    "    reserve_matchids=set({})\n",
    "\n",
    "    # get the puuids of the rank\n",
    "    path = f\"puuids/{tier}_puuids.json\"\n",
    "    with open(path, \"r\") as file:\n",
    "        puuids = json.load(file)\n",
    "\n",
    "    for puuid in puuids:\n",
    "        url = f\"https://sea.api.riotgames.com/lol/match/v5/matches/by-puuid/{puuid}/ids?type=ranked&start=0&count=20&api_key={api_key}\"\n",
    "        retries = 12\n",
    "        for i in range(retries):\n",
    "            response = requests.get(url)\n",
    "            if response.status_code == 200:\n",
    "                data = response.json() # data is a list of 20 matchIds - 20 latest matches of that account\n",
    "                count = 0 # count how many matchIds of this puuid have been put to the set\n",
    "                for i in range(len(data)):\n",
    "                    if data[i] not in match_ids: # check if the matchId is already in the set\n",
    "                        if count < 10:\n",
    "                            match_ids.add(data[i])\n",
    "                            matchids.add(data[i])\n",
    "                            count+=1\n",
    "                        elif count == 10: # if the puuid has dedicated 10 unique matchIds to the set, add the rest to reserve\n",
    "                            reserve_matchids.add(data[i])\n",
    "                            count+=1\n",
    "                            break\n",
    "                break\n",
    "            elif response.status_code == 429:\n",
    "                time.sleep(6)\n",
    "            else:\n",
    "                print(\"Failed to retrieve account PUUID. Status Code:\", response.status_code)\n",
    "                break\n",
    "\n",
    "    # Check if the number of matchIds is less than 2000 to compensate for it\n",
    "    if len(matchids) < 2000:\n",
    "        ids_to_add = list(reserve_matchids)[:2000-len(matchids)]\n",
    "        match_ids.update(ids_to_add)\n",
    "        matchids.update(ids_to_add)\n",
    "\n",
    "    # Check the result\n",
    "    print(\"from\", len(match_ids), f\"matchIds of rank {tier}\")\n",
    "    print(\"got\", len(matchids), \"matchIds\")\n",
    "    return matchids"
   ]
  },
  {
   "cell_type": "code",
   "execution_count": null,
   "metadata": {},
   "outputs": [],
   "source": [
    "# if nothing go wrong, save\n",
    "# for example:\n",
    "api_key = \"RGAPI-898a3f42-867f-410a-9845-ca10dd463281\"\n",
    "tier = \"master\"\n",
    "master_match_ids = get_matchId(api_key, tier)\n",
    "with open(f\"match_ids/{tier}_puuids.json\", 'w', encoding='utf-8') as file:\n",
    "    json.dump(master_match_ids, file, ensure_ascii=False, indent=4)"
   ]
  },
  {
   "cell_type": "markdown",
   "metadata": {},
   "source": [
    "<span style =\"font-size: 24px;\"> 1.4.Getting data of 20000 matches</span><br>"
   ]
  },
  {
   "cell_type": "markdown",
   "metadata": {},
   "source": [
    "<span style =\"font-size: 16px;\">Since the limit of the api key is 100 requests/minute, and each response of a request is a 150kb file, getting 2000 matches of a singular rank alone takes approximately 40 minutes, and all 20000 matches would be around 3gb.</span><br>\n",
    "<span style =\"font-size: 16px;\">That's why we will get 2000 matches of a rank each time, to get the data faster using 3 devices, avoid wasting time just to receive some random error, and lagging when trying to save all the data to file</span><br>"
   ]
  },
  {
   "cell_type": "code",
   "execution_count": null,
   "metadata": {},
   "outputs": [],
   "source": [
    "def get_match_data(api_key, tier):\n",
    "\n",
    "    # A list containing data of 2000 matches\n",
    "    match_datas = []\n",
    "\n",
    "    # Get a list of 2000 matchIds of the rank\n",
    "    with open(f\"match_ids/{tier}_matchids.json\", \"r\") as file:\n",
    "        match_ids = json.load(file)\n",
    "\n",
    "    for match_id in match_ids:\n",
    "        url = f\"https://sea.api.riotgames.com/lol/match/v5/matches/{match_id}?api_key={api_key}\"\n",
    "        retries = 12\n",
    "        for i in range(retries):\n",
    "            response = requests.get(url)\n",
    "            if response.status_code == 200:\n",
    "                match_datas.append(response.json())\n",
    "                # Check for progress\n",
    "                if len(match_datas)%100==0:\n",
    "                    print(\"got the data of\", len(match_datas), \"matches\")\n",
    "                break\n",
    "            elif response.status_code == 429:\n",
    "                time.sleep(6)\n",
    "            else:\n",
    "                print(\"Failed to retrieve account PUUID. Status Code:\", response.status_code)\n",
    "                break\n",
    "    return match_datas "
   ]
  },
  {
   "cell_type": "code",
   "execution_count": null,
   "metadata": {},
   "outputs": [],
   "source": [
    "# after checking, we save\n",
    "# for challenger, we save the result of the first run, then add more later\n",
    "# for example:\n",
    "api_key = \"RGAPI-898a3f42-867f-410a-9845-ca10dd463281\"\n",
    "tier = \"iron\"\n",
    "iron_match_datas = get_match_data(api_key, tier)\n",
    "with open(f\"match_datas/{tier}_match_datas\", 'w', encoding='utf-8') as file:\n",
    "        json.dump(iron_match_datas, file, ensure_ascii=False, indent=4)"
   ]
  },
  {
   "cell_type": "markdown",
   "metadata": {},
   "source": [
    "## 2. Data cleaning"
   ]
  },
  {
   "cell_type": "markdown",
   "metadata": {},
   "source": [
    "<span style =\"font-size: 24px;\"> 2.1. Some information about data of a match</span><br>"
   ]
  },
  {
   "cell_type": "markdown",
   "metadata": {},
   "source": [
    "<span style =\"font-size: 16px;\">For each matchId, we will have a json file of about 150kb after requesting the data.</span><br>\n",
    "<span style =\"font-size: 16px;\">Since this is just a small project and we will only use some basic information, all we need are some information mentioned below, together with some examples:</span><br>"
   ]
  },
  {
   "cell_type": "code",
   "execution_count": null,
   "metadata": {},
   "outputs": [
    {
     "name": "stdout",
     "output_type": "stream",
     "text": [
      "player1 basic infos:\n",
      "64 TOP [6692, 6698, 3053, 3053, 6676] True\n",
      "\n",
      "team1 basic infos:\n",
      "[23, 223, 164, 31, 11]\n",
      "baron\n",
      "{'first': True, 'kills': 1}\n",
      "champion\n",
      "{'first': False, 'kills': 40}\n",
      "dragon\n",
      "{'first': False, 'kills': 2}\n",
      "horde\n",
      "{'first': True, 'kills': 6}\n",
      "inhibitor\n",
      "{'first': True, 'kills': 3}\n",
      "riftHerald\n",
      "{'first': False, 'kills': 0}\n",
      "tower\n",
      "{'first': False, 'kills': 11}\n",
      "True\n"
     ]
    }
   ],
   "source": [
    "# Data of a match, here saved in test.json\n",
    "with open(\"test.json\", 'r') as file:\n",
    "    match_data = json.load(file)\n",
    "\n",
    "# match_data is a dict with 2 keys metadata and info. we only need the value of info\n",
    "info = match_data[\"info\"]\n",
    "\n",
    "\"\"\"\n",
    "info is a dict with 16 keys, we will only go for participants and teams:\n",
    "    - participants's value is a 1 list of 10 elements representing 10 players of that match\n",
    "    - teams's value is a list of 2 elements representing 2 teams blue/red\n",
    "\"\"\"\n",
    "participants = info[\"participants\"]\n",
    "teams = info['teams']\n",
    "\n",
    "\"\"\"\n",
    "Each player has a dict with 132 keys which are data of that player.\n",
    "We will only get 5 data about challenges, championId, teamPosition and win:\n",
    "    - challenges's value is a dict with 128 keys, but we only care about legendaryItemUsed\n",
    "        + legendaryItemUsed is a list containing id of legendary items(big iteams) of that one player\n",
    "    - championId is the id of the champion used by the player\n",
    "    - teamPosition is the role that player takes charge of, among 5 roles: TOP, JUNGLE, MIDDLE, BOTTOM, UTILITY\n",
    "    - win is a bool true/false corresponds to win/lose\n",
    "\"\"\"\n",
    "player = participants[0]\n",
    "challenges = player['challenges']\n",
    "legendaryItemUsed = challenges['legendaryItemUsed']\n",
    "championId = player['championId']\n",
    "teamPosition = player['teamPosition']\n",
    "win = player['win']\n",
    "\n",
    "\"\"\"\n",
    "Each team has a dict with 4 keys: bans, objectives, teamId and win:\n",
    "    - bans is a list with 5 elements representing 5 champions that the team banned from being chose in that match (each team has 5 bans)\n",
    "        + Each element of bans is a dict with 2 keys: championId(Id of the banned champion) and pickTurn(the turn at which the champion is banned),\n",
    "          this represent a ban (We only need championId to know which champion is banned)\n",
    "              *for example: Leesin got banned at turn 1, the dict will be: {championId : 64, pickTurn : 1}\n",
    "    - objectives are targets(muc tieu) that the team tookdown(killed), it is a dict with 7 keys:\n",
    "      baron, champion(tuong), dragon(rong), horde(sau hu khong), inhibitor(nha linh), riftHerald(su gia khe nut) and tower(tru).\n",
    "      Each objective is given by a dict with 2 keys: first and kills:\n",
    "        + first is a bool true/false that tells whether that team tookdown that target first (before the otherteam does it)\n",
    "              *for example: if first of champion of blue team is True, that means blue tookdown a player\n",
    "               of red team before any of their player is tookdown by red\n",
    "               in other words, blue team is the first team to get a kill\n",
    "        + kills is the number of times the team tookdown that target\n",
    "              *for example: dragon's skills of blue team is 2, that means blue team killed 2 dragons\n",
    "    - teamId is the id of the team, 100 is blue va 200 is red (we won't use teamId for the project)\n",
    "    - win is a bool that tells whether the win has won the match\n",
    "\"\"\"\n",
    "team = teams[0]\n",
    "bans = list(team['bans'][i]['championId'] for i in range(5))\n",
    "objectives = team['objectives']\n",
    "team_win = team['win']\n",
    "\n",
    "# Check the stats:\n",
    "print(\"player1 basic infos:\")\n",
    "print(championId, teamPosition, legendaryItemUsed, win)\n",
    "print()\n",
    "print(\"team1 basic infos:\")\n",
    "print(bans)\n",
    "for objective in objectives:\n",
    "    print(objective)\n",
    "    print(objectives[objective])\n",
    "print(team_win)"
   ]
  },
  {
   "cell_type": "markdown",
   "metadata": {},
   "source": [
    "<span style =\"font-size: 24px;\"> 2.2.Getting clean data</span><br>"
   ]
  },
  {
   "cell_type": "markdown",
   "metadata": {},
   "source": [
    "<span style =\"font-size: 16px;\">Now that we know what we need from a match, it's time we get it and reduce the size of our data</span><br>"
   ]
  }
 ],
 "metadata": {
  "kernelspec": {
   "display_name": "base",
   "language": "python",
   "name": "python3"
  },
  "language_info": {
   "codemirror_mode": {
    "name": "ipython",
    "version": 3
   },
   "file_extension": ".py",
   "mimetype": "text/x-python",
   "name": "python",
   "nbconvert_exporter": "python",
   "pygments_lexer": "ipython3",
   "version": "3.12.4"
  }
 },
 "nbformat": 4,
 "nbformat_minor": 2
}
